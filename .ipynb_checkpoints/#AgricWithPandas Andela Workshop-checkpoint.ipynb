{
 "cells": [
  {
   "cell_type": "markdown",
   "metadata": {},
   "source": [
    "# Welcome to the AgricWithPandas Andela Workshop\n",
    "\n",
    "This will be an interactive workshop in which we shall explore world development indicators as shown in data from the world bank. The dataset we shall dive in will be on [Agriculture and Rural Development](https://data.worldbank.org/topic/agriculture-and-rural-development)\n",
    "\n",
    "The point of the workshop is not only to show a few tricks of exploring data with pandas but also to exite your curiosity about what the data says on how man is exploiting land, his oldest natural resource.\n",
    "\n",
    "## Setting up\n",
    "\n",
    "In order for you to be able to follow along with the workshop, you will need to install pandas on your machine. You can do this by either downloading [Anaconda](https://www.anaconda.com/distribution/) or you can run the following command in your terminal in order to install pandas `pip install pandas jupyter`\n",
    "\n",
    "Follow the comands below to finish setting up\n",
    "\n",
    "```\n",
    "cd /folder/where/you/want/to/work\n",
    "git clone https://github.com/xkmato/agricwithpandas\n",
    "cd agricwithpandas\n",
    "jupyter notebook\n",
    "```\n",
    "\n",
    "After that. Visit your browser and let us start.\n",
    "\n",
    "## Structure of the workshop\n",
    "\n",
    "This is going to be an interactive workshop and not a lecture. I will only be facilitating\n",
    "\n",
    "* We shall start by reorganising the data into a format that will be easiet for us to use.\n",
    "* Then I will share a few challenges, give you about 5 minutes to think about an approach\n",
    "* We shall go ahead and discuss my approach and compare it to the rest of the approaches\n",
    "* Throught the workshop, we shall attempt to answer the questions below using the data we have\n",
    "\n",
    "## Questions\n",
    "\n",
    "1. Plot a graph that shows % of Employment of Ugandans in Agriculture from 1998-2018\n",
    "  * Compare Women to Men\n",
    "  * Compare Uganda to Kenya\n",
    "2. What is the average deforestration rate in sq. km/year in Uganda between 1998-2016\n",
    "  * How much land in Uganda is more Arable in 2016 than it was in 1998\n",
    "  * Assuming new Arable land is used in Agriculture, how much forests have been cleared for a reason other than agriculture\n",
    "  * Compare Uganda deforestration over the years to The Gambia\n",
    "3. Plot the productivity of France's land under cereal production over the years\n",
    "  * Compare that to Uganda\n",
    "4. Rural to Urban migration in Uganda\n",
    "\n",
    "\n",
    "\n"
   ]
  },
  {
   "cell_type": "code",
   "execution_count": null,
   "metadata": {},
   "outputs": [],
   "source": []
  }
 ],
 "metadata": {
  "kernelspec": {
   "display_name": "Python 3",
   "language": "python",
   "name": "python3"
  },
  "language_info": {
   "codemirror_mode": {
    "name": "ipython",
    "version": 3
   },
   "file_extension": ".py",
   "mimetype": "text/x-python",
   "name": "python",
   "nbconvert_exporter": "python",
   "pygments_lexer": "ipython3",
   "version": "3.7.3"
  }
 },
 "nbformat": 4,
 "nbformat_minor": 2
}
